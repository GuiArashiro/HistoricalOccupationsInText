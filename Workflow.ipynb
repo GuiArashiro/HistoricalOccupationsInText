{
 "cells": [
  {
   "cell_type": "code",
   "execution_count": 2,
   "id": "eba31f8e-3542-4ee0-a803-c32837b6dcb5",
   "metadata": {},
   "outputs": [
    {
     "name": "stdin",
     "output_type": "stream",
     "text": [
      "Please type the desired language for the HISCO dataset (i.e., English, Dutch, etc.):  Dutch\n"
     ]
    }
   ],
   "source": [
    "#Imports and initialization of HISCO vocabulary.\n",
    "\n",
    "import gzip\n",
    "import json\n",
    "import nltk\n",
    "from nltk.tokenize import word_tokenize\n",
    "from nltk.corpus import stopwords\n",
    "import string\n",
    "from nltk.metrics import distance\n",
    "\n",
    "hisco_vocab = None \n",
    "with gzip.open('./hisco.json.gz', 'r') as jsonfile:\n",
    "    hisco_vocab = json.load(jsonfile)\n",
    "    \n",
    "# limit to desired language's occupations only\n",
    "lang = input(\"Please type the desired language for the HISCO dataset (i.e., English, Dutch, etc.): \")\n",
    "hisco_vocab = {k:v for k,v in hisco_vocab.items() if \"Language\" in v.keys() and v['Language'] == lang}"
   ]
  },
  {
   "cell_type": "code",
   "execution_count": 3,
   "id": "976aa31d-8408-4f35-907f-e34d26e150b9",
   "metadata": {},
   "outputs": [],
   "source": [
    "#Load test data.\n",
    "data = None \n",
    "with gzip.open('./biocorpus.json.gz', 'r') as jsonfile:\n",
    "    data = json.load(jsonfile)"
   ]
  },
  {
   "cell_type": "code",
   "execution_count": 4,
   "id": "34404778-7940-4484-a0a8-ff19c30bdfd3",
   "metadata": {},
   "outputs": [
    {
     "name": "stdout",
     "output_type": "stream",
     "text": [
      "Please remove the current 'Matches.txt' file from the directory before continuing.\n"
     ]
    }
   ],
   "source": [
    "#Create output file\n",
    "\n",
    "try:\n",
    "    f = open(\"Matches.txt\", \"x\")\n",
    "except IOError:\n",
    "    print(\"Please remove the current 'Matches.txt' file from the directory before continuing.\")"
   ]
  },
  {
   "cell_type": "code",
   "execution_count": null,
   "id": "579048a4-9077-46a6-b3a6-b6d8eae55cf6",
   "metadata": {},
   "outputs": [
    {
     "name": "stdout",
     "output_type": "stream",
     "text": [
      "Match found!\n",
      "Currently analyzing the biography of: Petronella Voûte\n",
      "Word with potential occupational match: diepe\n",
      "Potential HISCO occupation match: dieper\n",
      "In-text contextualization of the word: \n",
      "\"Mogelijkerwijs heeft de diepe indruk van een ontmoeting met een prostituee in haar jeugd bij dit besluit een rol gespeeld \"\n",
      "HISCO code for potential occupation: 97400\n",
      "Levenshtein distance between word and potential HISCO occupation: 1\n"
     ]
    },
    {
     "name": "stdin",
     "output_type": "stream",
     "text": [
      "Do you agree with this matching? y/n n\n"
     ]
    },
    {
     "name": "stdout",
     "output_type": "stream",
     "text": [
      "Match removed.\n",
      "Match found!\n",
      "Currently analyzing the biography of: Antoine Louis des Tombe\n",
      "Word with potential occupational match: burgemeester\n",
      "Potential HISCO occupation match: Burgemeester\n",
      "In-text contextualization of the word: \n",
      "\"Des Tombe , lid van de Christelijk Historische Unie , werd in oktober 1934 benoemd tot burgemeester van Abcoude \"\n",
      "HISCO code for potential occupation: 20110\n",
      "Levenshtein distance between word and potential HISCO occupation: 1\n"
     ]
    },
    {
     "name": "stdin",
     "output_type": "stream",
     "text": [
      "Do you agree with this matching? y/n n\n"
     ]
    },
    {
     "name": "stdout",
     "output_type": "stream",
     "text": [
      "Match removed.\n",
      "Match found!\n",
      "Currently analyzing the biography of: Antoine Louis des Tombe\n",
      "Word with potential occupational match: burgemeester\n",
      "Potential HISCO occupation match: Burgemeester\n",
      "In-text contextualization of the word: \n",
      "\"Zijn benoeming tot burgemeester betekende voor de hele familie een verhuizing \"\n",
      "HISCO code for potential occupation: 20110\n",
      "Levenshtein distance between word and potential HISCO occupation: 1\n"
     ]
    }
   ],
   "source": [
    "#Go through each entry in data, format it, and print any potential matches.\n",
    "lang = lang.lower()\n",
    "correct = 0 #Test variable for amount of correct matches.\n",
    "iter = 0 #Test variable for finite loop iteration. #FOR TESTING\n",
    "for key, value in data.items(): #Parse through each item within the textual dataset.\n",
    "    sample = data[key]\n",
    "    sample_tokens_cleaned = word_tokenize(sample, language=lang)\n",
    "\n",
    "    iter_2 = 0 #FOR TESTING\n",
    "    index = 0 #Index used for contextual overview.\n",
    "    for token in sample_tokens_cleaned:  #Parse through each token in a given text item.\n",
    "        if token not in string.punctuation and token not in stopwords.words(lang): #Ignores stopwords and punctuation, but keeps them for context.\n",
    "            iter_3 = 0\n",
    "            match = 100\n",
    "            title_m = ''\n",
    "            code_m = ''\n",
    "            context = ''\n",
    "            for hisco_concept in hisco_vocab.values(): #Parse through HISCO occupation codes.\n",
    "                title = hisco_concept['Occupational title']\n",
    "                code = hisco_concept['Hisco code']\n",
    "                levenshtein = nltk.edit_distance(token, title) #Levenshtein distance calculation.\n",
    "                if match > levenshtein: #If the match is closer than the previous one, overwrite it.\n",
    "                    match = levenshtein\n",
    "                    title_m = title\n",
    "                    code_m = code\n",
    "                if match == 0: #If exact match, break loop and proceed with analysis.\n",
    "                    break\n",
    "\n",
    "                iter_3 += 1 #FOR TESTING\n",
    "                if iter_3 > 500:#FOR TESTING\n",
    "                    break#FOR TESTING\n",
    "\n",
    "            if match < 2: #NB: this value may change in the coming days based on research into the distance between compounded words which are common in Dutch. Will most likely be adaptable based on language\n",
    "                cont = 1\n",
    "                while cont < 20: #Add pre-context.\n",
    "                    if (index + cont < len(sample_tokens_cleaned) and index - cont >= 0):\n",
    "                        context = sample_tokens_cleaned[index - cont] + \" \" + context\n",
    "                    cont += 1\n",
    "                    if sample_tokens_cleaned[index - cont] == '.' or sample_tokens_cleaned[index - cont] == '?' or sample_tokens_cleaned[index - cont] == '!' or sample_tokens_cleaned[index - cont] == ':':\n",
    "                        cont = 21\n",
    "                context = context + token + \" \"\n",
    "                cont = 1\n",
    "                while cont < 20: #Add post context.\n",
    "                    if (index + cont < len(sample_tokens_cleaned) and index - cont >= 0):\n",
    "                        context = context + sample_tokens_cleaned[index + cont] + \" \"\n",
    "                    cont += 1\n",
    "                    if sample_tokens_cleaned[index + cont] == '.' or sample_tokens_cleaned[index - cont] == '?' or sample_tokens_cleaned[index - cont] == '!' or sample_tokens_cleaned[index - cont] == ':':\n",
    "                        cont = 21\n",
    "                print(\"Match found!\") #Prints necessary information for the user to judge the match.\n",
    "                print(\"Currently analyzing the biography of: \" + key)\n",
    "                print(\"Word with potential occupational match: \" + token)\n",
    "                print(\"Potential HISCO occupation match: \" + title_m)\n",
    "                print(\"In-text contextualization of the word: \")\n",
    "                print(\"\\\"\" + context + \"\\\"\")\n",
    "                print(\"HISCO code for potential occupation: \" + code_m)\n",
    "                print(\"Levenshtein distance between word and potential HISCO occupation: \" + str(match))\n",
    "                done = False\n",
    "                while done == False:\n",
    "                    answer = input(\"Do you agree with this matching? y/n\") #NB: final version will not be a keyboard prompt, but a button in the interface.\n",
    "                    if answer == 'y': #If match accepted, it is recorded.\n",
    "                        print(\"Match stored.\")\n",
    "                        done = True\n",
    "                        f.write(\"Biography in question: \" + key + \".\\n\")\n",
    "                        f.write(\"Match between token '\" + token + \"' and HISCO occupation '\" + title_m + \"', with HISCO code \" + code_m + \".\\n\")\n",
    "                        f.write(\"Levenshtein distance of: \" + str(match) + \".\\n\")\n",
    "                        f.write(\"Contextual overview: '\" + context + \"\\n\")\n",
    "                        f.write(\"\\n\")\n",
    "                    elif answer == 'n': #If unnaccepted, match is discarded.\n",
    "                        print(\"Match removed.\")\n",
    "                        done = True\n",
    "                    else:\n",
    "                        print(\"Please enter y or n.\")\n",
    "        index += 1\n",
    "        if index + 1 > len(sample_tokens_cleaned):\n",
    "            index = 0\n",
    "\n",
    "            iter_2 += 1 #FOR TESTING\n",
    "            if iter_2 > 500:#FOR TESTING\n",
    "                break#FOR TESTING\n",
    "    iter += 1 #FOR TESTING\n",
    "    if iter > 5:#FOR TESTING\n",
    "        break#FOR TESTING"
   ]
  },
  {
   "cell_type": "code",
   "execution_count": null,
   "id": "01b8e529-373c-4ea3-bcad-a58b0a702245",
   "metadata": {},
   "outputs": [],
   "source": []
  }
 ],
 "metadata": {
  "kernelspec": {
   "display_name": "Python 3 (ipykernel)",
   "language": "python",
   "name": "python3"
  },
  "language_info": {
   "codemirror_mode": {
    "name": "ipython",
    "version": 3
   },
   "file_extension": ".py",
   "mimetype": "text/x-python",
   "name": "python",
   "nbconvert_exporter": "python",
   "pygments_lexer": "ipython3",
   "version": "3.10.2"
  }
 },
 "nbformat": 4,
 "nbformat_minor": 5
}
